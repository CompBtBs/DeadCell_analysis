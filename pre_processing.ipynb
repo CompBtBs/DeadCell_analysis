{
 "cells": [
  {
   "cell_type": "markdown",
   "metadata": {},
   "source": [
    "# Pre-processing"
   ]
  },
  {
   "cell_type": "code",
   "execution_count": 1,
   "metadata": {},
   "outputs": [],
   "source": [
    "import numpy as np\n",
    "import pandas as pd\n",
    "import scanpy as sc\n",
    "from scanpy import AnnData\n",
    "from collections import Counter\n",
    "import pickle"
   ]
  },
  {
   "cell_type": "markdown",
   "metadata": {},
   "source": [
    "### Adata datasets\n",
    "The only specification is that the adata.var genes datasets have to be indexed according to the gene symbols.\n",
    "\n",
    "### Gene sets\n",
    "Naturally, also the genes in the gene sets have to be identifyed via gene symbol\n",
    "\n",
    "### pre_processing\n",
    "This function takes as parameters:\n",
    "- adata (the adata object with no previous processing)\n",
    "- gene_sets (the gene sets organized in a dictionary where keys are the names of the lists and values are the lists\n",
    "- treshold (genes bellow a certain % of cells will be excluded from the calculations. Default is 0.0)\n",
    "- n_controls (the number of control lists to be generated, default is 50)"
   ]
  },
  {
   "cell_type": "code",
   "execution_count": 2,
   "metadata": {},
   "outputs": [],
   "source": [
    "def pre_processing(adata, gene_sets=None, treshold=0.0, n_controls=50):\n",
    "    #set .var and .obs dtype as object\n",
    "    adata.var.index = adata.var.index.astype('object')\n",
    "    adata.obs.index = adata.obs.index.astype('object')\n",
    "    #making them unique\n",
    "    adata.var_names_make_unique()\n",
    "    adata.obs_names_make_unique()\n",
    "    sc.pp.filter_cells(adata, min_genes=0) #we purposefully do not filter damaged cells since we want them on our dataset\n",
    "    sc.pp.filter_genes(adata, min_cells=3) #filtering genes in less than 3 cells\n",
    "    adata.var['mt'] = adata.var_names.str.startswith('MT-')  #annotate the group of mitochondrial and ribosomal protein genes as 'mt' and 'ribo\n",
    "    adata.var['ribo'] = adata.var_names.str.startswith('RP')\n",
    "    sc.pp.calculate_qc_metrics(adata, qc_vars=['mt', 'ribo'], percent_top=None, log1p=False, inplace=True) #compute metrics such as % of counts belonguing to the mt and ribo groups\n",
    "    adata.var['pct_cells_by_count'] = (adata.var['n_cells_by_counts']/adata.shape[0])*100\n",
    "    #annotate the %of cells in which the transcript appears\n",
    "    \n",
    "    all_genes_in_adata_not_in_gene_sets = set(adata.var[adata.var['pct_cells_by_count']>treshold].index.values)\n",
    "    #preparing the control gene set where the control lists will be taken from. A first filter is to take only genes above a certain threshold if needed.\n",
    "    \n",
    "    for key in gene_sets.keys():\n",
    "        #selecting all eligible control genes \n",
    "        all_genes_in_adata_not_in_gene_sets = all_genes_in_adata_not_in_gene_sets.difference(set(gene_sets[key]))\n",
    "        #separating the control gene set. These genes do not belong in any of the other gene sets\n",
    "    \n",
    "    #creating control lists and adding them to the gene_sets dictionary\n",
    "    for i in range(0, n_controls):\n",
    "        gene_sets['control_{x}'.format(x=i)] = np.random.choice(list(all_genes_in_adata_not_in_gene_sets), 500)\n",
    "        #500 random genes not present in the lists are taken as control\n",
    "        adata.uns['control_list_{x}'.format(x=i)] = gene_sets['control_{x}'.format(x=i)]\n",
    "        \n",
    "    if gene_sets is None:\n",
    "        return adata\n",
    "    else:\n",
    "        for key in gene_sets.keys():\n",
    "            #adata indexes have to be the same as gene_sets nomenclature\n",
    "            adata.var[key] = adata.var_names.isin(gene_sets[key])\n",
    "            #computing metrics for each gene set\n",
    "            sc.pp.calculate_qc_metrics(adata, qc_vars=[key], percent_top=None, log1p=False, inplace=True)\n",
    "    \n",
    "    col_names = list(adata.obs.columns.values)\n",
    "    #selecting all the columns with the control lists metrics\n",
    "    tot_counts_control_col_names = [col for col in col_names if col.startswith('total_counts_control') is True]\n",
    "    pct_counts_control_col_names = [col for col in col_names if col.startswith('pct_counts_control') is True]\n",
    "    tmp_tot_df = adata.obs.loc[:,tot_counts_control_col_names]\n",
    "    tmp_pct_df = adata.obs.loc[:,pct_counts_control_col_names]\n",
    "    #aggregating all the control metrics into a a unique column with the mean\n",
    "    agg_tot_df = tmp_tot_df.agg(\"mean\", axis=\"columns\")\n",
    "    agg_pct_df = tmp_pct_df.agg(\"mean\", axis=\"columns\")\n",
    "    #adding aggregated metrics to the adata object\n",
    "    adata.obs = pd.concat([adata.obs, agg_tot_df, agg_pct_df], axis=1)\n",
    "    adata.obs.rename(columns={0:'total_counts_control_agg', 1:'pct_counts_control_agg'}, inplace=True)\n",
    "    adata.obs.drop(columns=tot_counts_control_col_names + pct_counts_control_col_names, inplace=True)\n",
    "    return adata"
   ]
  },
  {
   "cell_type": "code",
   "execution_count": 3,
   "metadata": {},
   "outputs": [
    {
     "name": "stderr",
     "output_type": "stream",
     "text": [
      "C:\\Users\\GM049705\\Anaconda3\\envs\\tesi\\lib\\site-packages\\anndata\\_core\\anndata.py:1908: UserWarning: Variable names are not unique. To make them unique, call `.var_names_make_unique`.\n",
      "  utils.warn_names_duplicates(\"var\")\n",
      "C:\\Users\\GM049705\\Anaconda3\\envs\\tesi\\lib\\site-packages\\anndata\\_core\\anndata.py:1906: UserWarning: Observation names are not unique. To make them unique, call `.obs_names_make_unique`.\n",
      "  utils.warn_names_duplicates(\"obs\")\n",
      "C:\\Users\\GM049705\\Anaconda3\\envs\\tesi\\lib\\site-packages\\anndata\\_core\\anndata.py:1908: UserWarning: Variable names are not unique. To make them unique, call `.var_names_make_unique`.\n",
      "  utils.warn_names_duplicates(\"var\")\n"
     ]
    }
   ],
   "source": [
    "#loading the data\n",
    "adata_10x = sc.read_h5ad(r\".\\data\\datasets\\adata_10x.pkl\")\n",
    "adata_all = sc.read_h5ad(r\".\\data\\datasets\\adata_all.pkl\")\n",
    "adata_met = sc.read_h5ad(r\".\\data\\datasets\\adata_met.pkl\")\n",
    "adata_mouse_1 = sc.read_h5ad(r\".\\data\\datasets\\adata_mouse_tagged_1.pkl\")\n",
    "adata_mouse_2 = sc.read_h5ad(r\".\\data\\datasets\\adata_mouse_tagged_2.pkl\")\n",
    "adata_mouse_3 = sc.read_h5ad(r\".\\data\\datasets\\adata_mouse_tagged_3.pkl\")"
   ]
  },
  {
   "cell_type": "code",
   "execution_count": 4,
   "metadata": {},
   "outputs": [
    {
     "name": "stdout",
     "output_type": "stream",
     "text": [
      "gene_sets dictionary loaded\n"
     ]
    }
   ],
   "source": [
    "#loading gene_sets dictionary\n",
    "with open(r\".\\data\\gene_lists\\gene_sets.pkl\", 'rb') as fp:\n",
    "    gene_sets = pickle.load(fp)\n",
    "    print('gene_sets dictionary loaded')"
   ]
  },
  {
   "cell_type": "code",
   "execution_count": 5,
   "metadata": {},
   "outputs": [
    {
     "data": {
      "text/plain": [
       "dict_keys(['apex_only', 'frac_seq_only', 'lncrna', 'in_common_apex_frac_seq'])"
      ]
     },
     "execution_count": 5,
     "metadata": {},
     "output_type": "execute_result"
    }
   ],
   "source": [
    "gene_sets.keys()"
   ]
  },
  {
   "cell_type": "code",
   "execution_count": 6,
   "metadata": {
    "scrolled": true
   },
   "outputs": [],
   "source": [
    "#remove all warnings\n",
    "import warnings\n",
    "warnings.filterwarnings(\"ignore\")\n",
    "# pre-processing\n",
    "adata_10x_pp = pre_processing(adata_10x, gene_sets=gene_sets)\n",
    "adata_all_pp = pre_processing(adata_all, gene_sets=gene_sets)\n",
    "adata_met_pp = pre_processing(adata_met, gene_sets=gene_sets)\n",
    "adata_mouse_1_pp = pre_processing(adata_mouse_1, gene_sets=gene_sets)\n",
    "adata_mouse_2_pp = pre_processing(adata_mouse_2, gene_sets=gene_sets)\n",
    "adata_mouse_3_pp = pre_processing(adata_mouse_3, gene_sets=gene_sets)"
   ]
  },
  {
   "cell_type": "code",
   "execution_count": 13,
   "metadata": {},
   "outputs": [],
   "source": [
    "#saving pre-processed data\n",
    "adata_10x_pp.write(r\".\\outputs\\adata_10x_pp.pkl\")\n",
    "adata_all_pp.write(r\".\\outputs\\adata_all_pp.pkl\")\n",
    "adata_met_pp.write(r\".\\outputs\\adata_met_pp.pkl\")\n",
    "adata_mouse_1_pp.write(r\".\\outputs\\adata_mouse_1_pp.pkl\")\n",
    "adata_mouse_2_pp.write(r\".\\outputs\\adata_mouse_2_pp.pkl\")\n",
    "adata_mouse_3_pp.write(r\".\\outputs\\adata_mouse_3_pp.pkl\")"
   ]
  },
  {
   "cell_type": "code",
   "execution_count": null,
   "metadata": {},
   "outputs": [],
   "source": []
  }
 ],
 "metadata": {
  "celltoolbar": "Raw Cell Format",
  "kernelspec": {
   "display_name": "Python 3 (ipykernel)",
   "language": "python",
   "name": "python3"
  },
  "language_info": {
   "codemirror_mode": {
    "name": "ipython",
    "version": 3
   },
   "file_extension": ".py",
   "mimetype": "text/x-python",
   "name": "python",
   "nbconvert_exporter": "python",
   "pygments_lexer": "ipython3",
   "version": "3.9.18"
  }
 },
 "nbformat": 4,
 "nbformat_minor": 4
}
